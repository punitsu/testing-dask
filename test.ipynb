{
 "cells": [
  {
   "cell_type": "code",
   "execution_count": 11,
   "metadata": {},
   "outputs": [
    {
     "name": "stderr",
     "output_type": "stream",
     "text": [
      "/home/punitsureka/Desktop/talview/testing-dask/venv/lib/python3.10/site-packages/distributed/node.py:182: UserWarning: Port 8787 is already in use.\n",
      "Perhaps you already have a cluster running?\n",
      "Hosting the HTTP server on port 43489 instead\n",
      "  warnings.warn(\n"
     ]
    }
   ],
   "source": [
    "from dask.distributed import Client\n",
    "import multiprocessing\n",
    "\n",
    "def client():\n",
    "    n_workers = multiprocessing.cpu_count()\n",
    "    threads_per_worker = 2\n",
    "    client = Client(n_workers=n_workers, threads_per_worker=threads_per_worker)\n",
    "    return client\n",
    "\n",
    "client = client()"
   ]
  },
  {
   "cell_type": "code",
   "execution_count": 2,
   "metadata": {},
   "outputs": [],
   "source": [
    "import pandas as pd\n",
    "import dask.dataframe as dd"
   ]
  },
  {
   "cell_type": "code",
   "execution_count": 3,
   "metadata": {},
   "outputs": [],
   "source": [
    "top_tags_pandas = pd.read_csv('/home/punitsureka/Desktop/talview/testing-dask/y_top_10000_tags.csv')\n",
    "top_tags = dd.from_pandas(top_tags_pandas, npartitions=100)\n",
    "tags_2022_pandas = pd.read_csv('/home/punitsureka/Desktop/talview/testing-dask/stackoverflow_questions_2022.csv', usecols = ['tags'])\n",
    "tags_2022 = dd.from_pandas(tags_2022_pandas, npartitions=100)\n",
    "tags_list = tags_2022['tags'].str.split('|')\n",
    "tags_list = tags_list.dropna()"
   ]
  },
  {
   "cell_type": "code",
   "execution_count": 7,
   "metadata": {},
   "outputs": [],
   "source": [
    "def compute_top_10(tag_x):\n",
    "    filtered_series = tags_list[tags_list.apply(lambda x: tag_x in x)]\n",
    "    flattened_series = filtered_series.explode()\n",
    "    tag_counts = flattened_series.value_counts()\n",
    "    top_10 = tag_counts.nlargest(11)\n",
    "\n",
    "    top_10_percentages = {}\n",
    "    for tag, count in top_10.iteritems():\n",
    "        if tag != tag_x:\n",
    "            percentage = round(count / tag_counts[tag_x] * 100, 2)\n",
    "            top_10_percentages[tag] = f\"{percentage}%\"\n",
    "\n",
    "    return (tag_x, top_10_percentages)"
   ]
  },
  {
   "cell_type": "code",
   "execution_count": 12,
   "metadata": {},
   "outputs": [],
   "source": [
    "results = client.map(compute_top_10, top_tags['tag_name'])"
   ]
  },
  {
   "cell_type": "code",
   "execution_count": null,
   "metadata": {},
   "outputs": [],
   "source": []
  }
 ],
 "metadata": {
  "kernelspec": {
   "display_name": "venv",
   "language": "python",
   "name": "python3"
  },
  "language_info": {
   "codemirror_mode": {
    "name": "ipython",
    "version": 3
   },
   "file_extension": ".py",
   "mimetype": "text/x-python",
   "name": "python",
   "nbconvert_exporter": "python",
   "pygments_lexer": "ipython3",
   "version": "3.10.6"
  },
  "orig_nbformat": 4
 },
 "nbformat": 4,
 "nbformat_minor": 2
}
